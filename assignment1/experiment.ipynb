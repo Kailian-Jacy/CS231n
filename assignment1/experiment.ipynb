{
 "cells": [
  {
   "cell_type": "code",
   "execution_count": 5,
   "metadata": {},
   "outputs": [
    {
     "name": "stdout",
     "output_type": "stream",
     "text": [
      "[[ 3  4  2  1]\n",
      " [-1 -2  1  0]\n",
      " [ 1  0  2  3]\n",
      " [ 2  1  3  0]\n",
      " [-2 -1  0  1]\n",
      " [ 1 -2  0 -1]\n",
      " [ 0 -2  1 -1]\n",
      " [ 0  1 -1 -2]]\n",
      "===================\n",
      "[[3 4 2 1]\n",
      " [0 0 1 0]\n",
      " [1 0 2 3]\n",
      " [2 1 3 0]\n",
      " [0 0 0 1]\n",
      " [1 0 0 0]\n",
      " [0 0 1 0]\n",
      " [0 1 0 0]]\n",
      "[[1 1 1 1]\n",
      " [0 0 1 0]\n",
      " [1 0 1 1]\n",
      " [1 1 1 0]\n",
      " [0 0 0 1]\n",
      " [1 0 0 0]\n",
      " [0 0 1 0]\n",
      " [0 1 0 0]]\n",
      "(8, 4)\n"
     ]
    }
   ],
   "source": [
    "import numpy as np\n",
    "\n",
    "x = (np.tile(range(0,4), (8, 1)))\n",
    "\n",
    "for i in range(x.shape[0]):\n",
    "\tnp.random.shuffle(x[i].T)\n",
    "\n",
    "# print(x)\n",
    "y = np.tile(np.arange(0,4), 2)\n",
    "np.random.shuffle(y)\n",
    "# print(y)\n",
    "# print('===================')\n",
    "\n",
    "ref = x[range(x.shape[0]),y]\n",
    "\n",
    "result1 = x - ref.reshape(8,1) + 1\n",
    "print(result1)\n",
    "\n",
    "print('===================')\n",
    "result1 = np.maximum(result1, 0)\n",
    "print(result1)\n",
    "\n",
    "result1[result1 > 0] = 1\n",
    "print(result1)\n",
    "print(result1.shape)\n",
    "\n",
    "# dW = X.T.dot(result1) * 1.0 / num_samples\n",
    "# print(dW.shape)\n",
    "\n",
    "# dW += reg * W * 2"
   ]
  },
  {
   "cell_type": "code",
   "execution_count": 7,
   "metadata": {},
   "outputs": [
    {
     "data": {
      "text/plain": [
       "<matplotlib.collections.PathCollection at 0x10d63d2b0>"
      ]
     },
     "execution_count": 7,
     "metadata": {},
     "output_type": "execute_result"
    },
    {
     "data": {
      "image/png": "[encoded data removed]",
      "text/plain": [
       "<Figure size 432x288 with 1 Axes>"
      ]
     },
     "metadata": {
      "needs_background": "light"
     },
     "output_type": "display_data"
    }
   ],
   "source": [
    "import numpy as np\n",
    "import matplotlib.pyplot as plt\n",
    "\n",
    "num = 100\n",
    "xy_min = [1e-7, 2.5e4]\n",
    "xy_max = [5e-5, 5e4]\n",
    "rand_points = np.random.uniform(low=xy_min, high=xy_max, size=(num,2))\n",
    "# print(rand_points)\n",
    "# print(rand_points.shape)\n",
    "\n",
    "plt.scatter(rand_points[:,0], rand_points[:,1], s=1)\n"
   ]
  },
  {
   "cell_type": "code",
   "execution_count": 3,
   "metadata": {},
   "outputs": [
    {
     "name": "stdout",
     "output_type": "stream",
     "text": [
      "[[0 0 0 0 1 0 0 0]\n",
      " [0 0 0 0 1 0 0 0]\n",
      " [0 0 0 0 1 0 0 0]\n",
      " [0 0 0 0 1 0 0 0]\n",
      " [0 0 0 0 1 0 0 0]\n",
      " [0 0 0 0 1 0 0 0]\n",
      " [0 0 0 0 1 0 0 0]\n",
      " [0 0 0 0 1 0 0 0]]\n",
      "[[0 0 0 0 0 0 0 0]\n",
      " [0 0 0 0 0 0 0 0]\n",
      " [0 0 0 0 0 0 0 0]\n",
      " [0 0 0 0 0 0 0 0]\n",
      " [1 1 1 1 1 1 1 1]\n",
      " [0 0 0 0 0 0 0 0]\n",
      " [0 0 0 0 0 0 0 0]\n",
      " [0 0 0 0 0 0 0 0]]\n"
     ]
    }
   ],
   "source": [
    "import numpy as np\n",
    "y = np.array([0,0,0,0,1,0,0,0])\n",
    "print(np.tile(y, (8,1)))\n",
    "print(np.tile(y, (8,1)).T)"
   ]
  },
  {
   "cell_type": "code",
   "execution_count": 2,
   "metadata": {},
   "outputs": [
    {
     "name": "stdout",
     "output_type": "stream",
     "text": [
      "(4, 3)\n",
      "(4,)\n",
      "(4, 1)\n",
      "[[1.         2.         3.        ]\n",
      " [0.5        1.         1.5       ]\n",
      " [0.33333333 0.66666667 1.        ]\n",
      " [0.25       0.5        0.75      ]]\n"
     ]
    }
   ],
   "source": [
    "import numpy as np\n",
    "a = np.array([[1,2,3], [1,2,3],[1,2,3], [1,2,3]])\n",
    "b = np.array([1,2,3,4])\n",
    "print(a.shape)\n",
    "print(b.shape)\n",
    "\n",
    "c = b.reshape(-1,1)\n",
    "print(b.shape)\n",
    "print(a/c)"
   ]
  }
 ],
 "metadata": {
  "interpreter": {
   "hash": "f7da7ce6702d1fc15b1fb8c66b72abfdc4551533362f489c294ca54b0d87a03c"
  },
  "kernelspec": {
   "display_name": "Python 3.9.7 64-bit ('sci': conda)",
   "language": "python",
   "name": "python3"
  },
  "language_info": {
   "codemirror_mode": {
    "name": "ipython",
    "version": 3
   },
   "file_extension": ".py",
   "mimetype": "text/x-python",
   "name": "python",
   "nbconvert_exporter": "python",
   "pygments_lexer": "ipython3",
   "version": "3.9.7"
  },
  "orig_nbformat": 4
 },
 "nbformat": 4,
 "nbformat_minor": 2
}
