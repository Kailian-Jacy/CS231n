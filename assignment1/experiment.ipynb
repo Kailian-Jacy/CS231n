{
 "cells": [
  {
   "cell_type": "code",
   "execution_count": 5,
   "metadata": {},
   "outputs": [
    {
     "name": "stdout",
     "output_type": "stream",
     "text": [
      "[[ 3  4  2  1]\n",
      " [-1 -2  1  0]\n",
      " [ 1  0  2  3]\n",
      " [ 2  1  3  0]\n",
      " [-2 -1  0  1]\n",
      " [ 1 -2  0 -1]\n",
      " [ 0 -2  1 -1]\n",
      " [ 0  1 -1 -2]]\n",
      "===================\n",
      "[[3 4 2 1]\n",
      " [0 0 1 0]\n",
      " [1 0 2 3]\n",
      " [2 1 3 0]\n",
      " [0 0 0 1]\n",
      " [1 0 0 0]\n",
      " [0 0 1 0]\n",
      " [0 1 0 0]]\n",
      "[[1 1 1 1]\n",
      " [0 0 1 0]\n",
      " [1 0 1 1]\n",
      " [1 1 1 0]\n",
      " [0 0 0 1]\n",
      " [1 0 0 0]\n",
      " [0 0 1 0]\n",
      " [0 1 0 0]]\n",
      "(8, 4)\n"
     ]
    }
   ],
   "source": [
    "import numpy as np\n",
    "\n",
    "x = (np.tile(range(0,4), (8, 1)))\n",
    "\n",
    "for i in range(x.shape[0]):\n",
    "\tnp.random.shuffle(x[i].T)\n",
    "\n",
    "# print(x)\n",
    "y = np.tile(np.arange(0,4), 2)\n",
    "np.random.shuffle(y)\n",
    "# print(y)\n",
    "# print('===================')\n",
    "\n",
    "ref = x[range(x.shape[0]),y]\n",
    "\n",
    "result1 = x - ref.reshape(8,1) + 1\n",
    "print(result1)\n",
    "\n",
    "print('===================')\n",
    "result1 = np.maximum(result1, 0)\n",
    "print(result1)\n",
    "\n",
    "result1[result1 > 0] = 1\n",
    "print(result1)\n",
    "print(result1.shape)\n",
    "\n",
    "# dW = X.T.dot(result1) * 1.0 / num_samples\n",
    "# print(dW.shape)\n",
    "\n",
    "# dW += reg * W * 2"
   ]
  }
 ],
 "metadata": {
  "interpreter": {
   "hash": "f7da7ce6702d1fc15b1fb8c66b72abfdc4551533362f489c294ca54b0d87a03c"
  },
  "kernelspec": {
   "display_name": "Python 3.9.7 64-bit ('sci': conda)",
   "language": "python",
   "name": "python3"
  },
  "language_info": {
   "codemirror_mode": {
    "name": "ipython",
    "version": 3
   },
   "file_extension": ".py",
   "mimetype": "text/x-python",
   "name": "python",
   "nbconvert_exporter": "python",
   "pygments_lexer": "ipython3",
   "version": "3.9.7"
  },
  "orig_nbformat": 4
 },
 "nbformat": 4,
 "nbformat_minor": 2
}
